{
 "cells": [
  {
   "cell_type": "code",
   "execution_count": 1,
   "metadata": {
    "collapsed": false
   },
   "outputs": [
    {
     "name": "stdout",
     "output_type": "stream",
     "text": [
      "What hashtag would you like to download photos of? #dogs\n"
     ]
    },
    {
     "ename": "TypeError",
     "evalue": "cannot concatenate 'str' and 'NoneType' objects",
     "output_type": "error",
     "traceback": [
      "\u001b[0;31m---------------------------------------------------------------------------\u001b[0m",
      "\u001b[0;31mTypeError\u001b[0m                                 Traceback (most recent call last)",
      "\u001b[0;32m<ipython-input-1-b52236c3c64e>\u001b[0m in \u001b[0;36m<module>\u001b[0;34m()\u001b[0m\n\u001b[1;32m     22\u001b[0m \u001b[0;34m\u001b[0m\u001b[0m\n\u001b[1;32m     23\u001b[0m \u001b[0;31m# url to query for pictures\u001b[0m\u001b[0;34m\u001b[0m\u001b[0;34m\u001b[0m\u001b[0m\n\u001b[0;32m---> 24\u001b[0;31m \u001b[0mnextUrl\u001b[0m \u001b[0;34m=\u001b[0m \u001b[0;34m\"https://api.instagram.com/v1/tags/\"\u001b[0m\u001b[0;34m+\u001b[0m\u001b[0mhashtag\u001b[0m\u001b[0;34m+\u001b[0m\u001b[0;34m\"/media/recent?access_token=\"\u001b[0m\u001b[0;34m+\u001b[0m\u001b[0maccess_token\u001b[0m\u001b[0;34m\u001b[0m\u001b[0m\n\u001b[0m\u001b[1;32m     25\u001b[0m \u001b[0;32mprint\u001b[0m \u001b[0mnextUrl\u001b[0m\u001b[0;34m\u001b[0m\u001b[0m\n\u001b[1;32m     26\u001b[0m \u001b[0;31m# while there is a next url to go to\u001b[0m\u001b[0;34m\u001b[0m\u001b[0;34m\u001b[0m\u001b[0m\n",
      "\u001b[0;31mTypeError\u001b[0m: cannot concatenate 'str' and 'NoneType' objects"
     ]
    }
   ],
   "source": [
    "from datetime import datetime\n",
    "import urllib2\n",
    "import urllib\n",
    "import json\n",
    "import os\n",
    "\n",
    "def ajaxRequest(url=None):\n",
    "\t\"\"\"\n",
    "\tMakes an ajax get request.\n",
    "\turl - endpoint(string)\n",
    "\t\"\"\"\n",
    "\treq = urllib2.Request(url)\n",
    "\tf = urllib2.urlopen(req)\n",
    "\tresponse = f.read()\n",
    "\tf.close()\n",
    "\treturn response\t\n",
    "\n",
    "access_token = os.getenv(\"access_token\")\n",
    "\n",
    "# ask for hashtag name\n",
    "hashtag = raw_input(\"What hashtag would you like to download photos of? \")\n",
    "\n",
    "# url to query for pictures\n",
    "nextUrl = \"https://api.instagram.com/v1/tags/\"+hashtag+\"/media/recent?access_token=\"+access_token\n",
    "print nextUrl\n",
    "# while there is a next url to go to\n",
    "while nextUrl:\n",
    "\t# request the data at that endpoint \n",
    "\tinstagramJSON = ajaxRequest(nextUrl)\n",
    "\tinstagramDict = json.loads(instagramJSON)\n",
    "\t# get new  nextUrl\n",
    "\tnextUrl = instagramDict[\"pagination\"][\"next_url\"]\n",
    "\tinstagramData = instagramDict[\"data\"]\n",
    "\t# for every picture\n",
    "\tfor picDict in instagramData:\n",
    "\t\t# get the image url and current time\n",
    "\t\tprint picDict\n",
    "\t\timage = picDict[\"images\"][\"standard_resolution\"]\n",
    "\t\timageUrl = image[\"url\"]\n",
    "\t\tprint image\n",
    "\t\ttime = str(datetime.now())\n",
    "\t\t# download the photo and save it\n",
    "urllib.urlretrieve(imageUrl, time+\".jpg\")"
   ]
  },
  {
   "cell_type": "code",
   "execution_count": null,
   "metadata": {
    "collapsed": false
   },
   "outputs": [],
   "source": [
    "from datetime import datetime\n",
    "import urllib2\n",
    "import urllib\n",
    "import json\n",
    "import os\n",
    "\n",
    "def ajaxRequest(url=None):\n",
    "    \"\"\"\n",
    "    Makes an ajax get request.\n",
    "    url - endpoint(string)\n",
    "    \"\"\"\n",
    "    req = urllib2.Request(url)\n",
    "    f = urllib2.urlopen(req)\n",
    "    response = f.read()\n",
    "    f.close()\n",
    "    return response\t\n",
    "\n",
    "access_token = '334700312-RbFnOySH2X103PiHyS7nbhDcqHIoj6luBSfiw5dx'\n",
    "print access_token\n",
    "access_token_secret = 'lcevOHD2IAZ3goXkr3DnIZHmLnMfKFAsuGjLDh969fSq5'\n",
    "consumer_key = '9fe8nBe9TiLFMYkchZrsPR1Ek'\n",
    "consumer_secret = 'mhh1v5Z7jKGlVFy4RM93FovnFe0CCdFp8M3CseWJ1BDtoo8x0H'\n",
    "\n",
    "\n",
    "access_token = os.getenv(\"875021857954705408-4zj22jbAT26qrkKEFQgzfP5gL7OmiED\")\n",
    "\n",
    "hashtag = \"#trackums\"\n",
    "# ask for hashtag name\n",
    "hashtag = raw_input(\"What hashtag would you like to download photos of? \")\n",
    "consumer_key=os.getenv(\"TWITTER_CONSUMER_KEY\")\n",
    "print consumer_key\n",
    "consumer_secret = os.getenv(\"TWITTER_CONSUMER_SECRET\")\n",
    "print consumer_secret\n",
    "access_token = os.getenv(\"TWITTER_ACCESS_TOKEN\")\n",
    "print access_token\n",
    "\n",
    "request_token_url = '%s/oauth2/token' % base_api_url\n",
    "\n",
    "auth = HTTPBasicAuth(consumer_key, consumer_secret)\n",
    "\n",
    "client = BackendApplicationClient(consumer_key)\n",
    "\n",
    "token = {'access_token': access_token, 'token_type': \"bearer\" }\n",
    "\n",
    "session = OAuth2Session(client=client, token=token)\n",
    "\n",
    "print session.verify\n",
    "print session.token\n",
    "\n",
    "# url to query for pictures\n",
    "nextUrl = \"https://api.instagram.com/v1/tags/\"+hashtag+\"/media/recent?access_token=\"+access_token\n",
    "print nextUrl\n",
    "# while there is a next url to go to\n",
    "while nextUrl:\n",
    "    # request the data at that endpoint \n",
    "    instagramJSON = ajaxRequest(nextUrl)\n",
    "    instagramDict = json.loads(instagramJSON)\n",
    "    # get new  nextUrl\n",
    "    nextUrl = instagramDict[\"pagination\"][\"next_url\"]\n",
    "    instagramData = instagramDict[\"data\"]\n",
    "    # for every picture\n",
    "    for picDict in instagramData:\n",
    "        # get the image url and current time\n",
    "        print picDict\n",
    "        image = picDict[\"images\"][\"standard_resolution\"]\n",
    "        imageUrl = image[\"url\"]\n",
    "        print image\n",
    "        time = str(datetime.now())\n",
    "        # download the photo and save it\n",
    "        urllib.urlretrieve(imageUrl, time+\".jpg\")"
   ]
  },
  {
   "cell_type": "code",
   "execution_count": null,
   "metadata": {
    "collapsed": true
   },
   "outputs": [],
   "source": []
  }
 ],
 "metadata": {
  "kernelspec": {
   "display_name": "Python 3",
   "language": "python",
   "name": "python3"
  },
  "language_info": {
   "codemirror_mode": {
    "name": "ipython",
    "version": 2
   },
   "file_extension": ".py",
   "mimetype": "text/x-python",
   "name": "python",
   "nbconvert_exporter": "python",
   "pygments_lexer": "ipython2",
   "version": "2.7.13"
  }
 },
 "nbformat": 4,
 "nbformat_minor": 2
}
