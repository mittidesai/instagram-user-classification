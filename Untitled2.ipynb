{
 "cells": [
  {
   "cell_type": "code",
   "execution_count": 1,
   "metadata": {
    "collapsed": true
   },
   "outputs": [],
   "source": [
    "import requests\n",
    "from pandas.io.json import json_normalize\n",
    "import pandas as pd"
   ]
  },
  {
   "cell_type": "code",
   "execution_count": 33,
   "metadata": {
    "collapsed": false
   },
   "outputs": [
    {
     "name": "stdout",
     "output_type": "stream",
     "text": [
      "https://api.instagram.com/v1/users/search?q=jack&access_token=\"334700312-RbFnOySH2X103PiHyS7nbhDcqHIoj6luBSfiw5dx\"\n"
     ]
    }
   ],
   "source": [
    "\n",
    "base_url = \"https://api.instagram.com/v1\"\n",
    "CLIENT_ID = \"1934b8a9ee534ec19b2c535dc4a9a885\" \n",
    "access_token = \"334700312-RbFnOySH2X103PiHyS7nbhDcqHIoj6luBSfiw5dx\"\n",
    "query = 'nyc'\n",
    "\n",
    "url = 'https://api.instagram.com/v1/users/search?q=jack&access_token=\"334700312-RbFnOySH2X103PiHyS7nbhDcqHIoj6luBSfiw5dx\"'\n",
    "\n",
    "\n",
    "\n",
    "#url = '{0}/tags/{1}/media/recent?client_id={2}&count=30'.format(\n",
    " #   base_url, query, access_token)\n",
    "\n",
    "r = requests.get(url)\n",
    "j = r.json()\n",
    "\n",
    "print url\n",
    "\n"
   ]
  },
  {
   "cell_type": "code",
   "execution_count": 24,
   "metadata": {
    "collapsed": false
   },
   "outputs": [
    {
     "data": {
      "text/plain": [
       "[u'meta']"
      ]
     },
     "execution_count": 24,
     "metadata": {},
     "output_type": "execute_result"
    }
   ],
   "source": [
    "j.keys()"
   ]
  },
  {
   "cell_type": "code",
   "execution_count": 25,
   "metadata": {
    "collapsed": false
   },
   "outputs": [
    {
     "data": {
      "text/plain": [
       "{u'code': 400,\n",
       " u'error_message': u'The access_token provided is invalid.',\n",
       " u'error_type': u'OAuthAccessTokenException'}"
      ]
     },
     "execution_count": 25,
     "metadata": {},
     "output_type": "execute_result"
    }
   ],
   "source": [
    "j['meta']"
   ]
  },
  {
   "cell_type": "code",
   "execution_count": null,
   "metadata": {
    "collapsed": true
   },
   "outputs": [],
   "source": []
  }
 ],
 "metadata": {
  "kernelspec": {
   "display_name": "Python 3",
   "language": "python",
   "name": "python3"
  },
  "language_info": {
   "codemirror_mode": {
    "name": "ipython",
    "version": 2
   },
   "file_extension": ".py",
   "mimetype": "text/x-python",
   "name": "python",
   "nbconvert_exporter": "python",
   "pygments_lexer": "ipython2",
   "version": "2.7.13"
  }
 },
 "nbformat": 4,
 "nbformat_minor": 2
}
